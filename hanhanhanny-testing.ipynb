{
 "cells": [
  {
   "cell_type": "markdown",
   "metadata": {},
   "source": [
    "## Import Library"
   ]
  },
  {
   "cell_type": "code",
   "execution_count": 1,
   "metadata": {},
   "outputs": [],
   "source": [
    "import requests \n",
    "import tensorflow as tf\n",
    "import numpy as np\n",
    "import json\n",
    "import pandas as pd\n",
    "import base64\n",
    "from sklearn.model_selection import train_test_split"
   ]
  },
  {
   "cell_type": "markdown",
   "metadata": {},
   "source": [
    "## Data Load"
   ]
  },
  {
   "cell_type": "code",
   "execution_count": 2,
   "metadata": {},
   "outputs": [
    {
     "data": {
      "text/html": [
       "<div>\n",
       "<style scoped>\n",
       "    .dataframe tbody tr th:only-of-type {\n",
       "        vertical-align: middle;\n",
       "    }\n",
       "\n",
       "    .dataframe tbody tr th {\n",
       "        vertical-align: top;\n",
       "    }\n",
       "\n",
       "    .dataframe thead th {\n",
       "        text-align: right;\n",
       "    }\n",
       "</style>\n",
       "<table border=\"1\" class=\"dataframe\">\n",
       "  <thead>\n",
       "    <tr style=\"text-align: right;\">\n",
       "      <th></th>\n",
       "      <th>Age</th>\n",
       "      <th>Sex</th>\n",
       "      <th>Cholesterol</th>\n",
       "      <th>Heart Rate</th>\n",
       "      <th>Diabetes</th>\n",
       "      <th>Family History</th>\n",
       "      <th>Smoking</th>\n",
       "      <th>Obesity</th>\n",
       "      <th>Alcohol Consumption</th>\n",
       "      <th>Exercise Hours Per Week</th>\n",
       "      <th>Previous Heart Problems</th>\n",
       "      <th>Medication Use</th>\n",
       "      <th>Stress Level</th>\n",
       "      <th>Sedentary Hours Per Day</th>\n",
       "      <th>Income</th>\n",
       "      <th>BMI</th>\n",
       "      <th>Triglycerides</th>\n",
       "      <th>Physical Activity Days Per Week</th>\n",
       "      <th>Sleep Hours Per Day</th>\n",
       "      <th>Heart Attack Risk</th>\n",
       "    </tr>\n",
       "  </thead>\n",
       "  <tbody>\n",
       "    <tr>\n",
       "      <th>0</th>\n",
       "      <td>67</td>\n",
       "      <td>Male</td>\n",
       "      <td>208</td>\n",
       "      <td>72</td>\n",
       "      <td>0</td>\n",
       "      <td>0</td>\n",
       "      <td>1</td>\n",
       "      <td>0</td>\n",
       "      <td>0</td>\n",
       "      <td>4.168189</td>\n",
       "      <td>0</td>\n",
       "      <td>0</td>\n",
       "      <td>9</td>\n",
       "      <td>6.615001</td>\n",
       "      <td>261404</td>\n",
       "      <td>31.251233</td>\n",
       "      <td>286</td>\n",
       "      <td>0</td>\n",
       "      <td>6</td>\n",
       "      <td>0</td>\n",
       "    </tr>\n",
       "    <tr>\n",
       "      <th>1</th>\n",
       "      <td>21</td>\n",
       "      <td>Male</td>\n",
       "      <td>389</td>\n",
       "      <td>98</td>\n",
       "      <td>1</td>\n",
       "      <td>1</td>\n",
       "      <td>1</td>\n",
       "      <td>1</td>\n",
       "      <td>1</td>\n",
       "      <td>1.813242</td>\n",
       "      <td>1</td>\n",
       "      <td>0</td>\n",
       "      <td>1</td>\n",
       "      <td>4.963459</td>\n",
       "      <td>285768</td>\n",
       "      <td>27.194973</td>\n",
       "      <td>235</td>\n",
       "      <td>1</td>\n",
       "      <td>7</td>\n",
       "      <td>0</td>\n",
       "    </tr>\n",
       "    <tr>\n",
       "      <th>2</th>\n",
       "      <td>21</td>\n",
       "      <td>Female</td>\n",
       "      <td>324</td>\n",
       "      <td>72</td>\n",
       "      <td>1</td>\n",
       "      <td>0</td>\n",
       "      <td>0</td>\n",
       "      <td>0</td>\n",
       "      <td>0</td>\n",
       "      <td>2.078353</td>\n",
       "      <td>1</td>\n",
       "      <td>1</td>\n",
       "      <td>9</td>\n",
       "      <td>9.463426</td>\n",
       "      <td>235282</td>\n",
       "      <td>28.176571</td>\n",
       "      <td>587</td>\n",
       "      <td>4</td>\n",
       "      <td>4</td>\n",
       "      <td>0</td>\n",
       "    </tr>\n",
       "    <tr>\n",
       "      <th>3</th>\n",
       "      <td>84</td>\n",
       "      <td>Male</td>\n",
       "      <td>383</td>\n",
       "      <td>73</td>\n",
       "      <td>1</td>\n",
       "      <td>1</td>\n",
       "      <td>1</td>\n",
       "      <td>0</td>\n",
       "      <td>1</td>\n",
       "      <td>9.828130</td>\n",
       "      <td>1</td>\n",
       "      <td>0</td>\n",
       "      <td>9</td>\n",
       "      <td>7.648981</td>\n",
       "      <td>125640</td>\n",
       "      <td>36.464704</td>\n",
       "      <td>378</td>\n",
       "      <td>3</td>\n",
       "      <td>4</td>\n",
       "      <td>0</td>\n",
       "    </tr>\n",
       "    <tr>\n",
       "      <th>4</th>\n",
       "      <td>66</td>\n",
       "      <td>Male</td>\n",
       "      <td>318</td>\n",
       "      <td>93</td>\n",
       "      <td>1</td>\n",
       "      <td>1</td>\n",
       "      <td>1</td>\n",
       "      <td>1</td>\n",
       "      <td>0</td>\n",
       "      <td>5.804299</td>\n",
       "      <td>1</td>\n",
       "      <td>0</td>\n",
       "      <td>6</td>\n",
       "      <td>1.514821</td>\n",
       "      <td>160555</td>\n",
       "      <td>21.809144</td>\n",
       "      <td>231</td>\n",
       "      <td>1</td>\n",
       "      <td>5</td>\n",
       "      <td>0</td>\n",
       "    </tr>\n",
       "  </tbody>\n",
       "</table>\n",
       "</div>"
      ],
      "text/plain": [
       "   Age     Sex  Cholesterol  Heart Rate  Diabetes  Family History  Smoking  \\\n",
       "0   67    Male          208          72         0               0        1   \n",
       "1   21    Male          389          98         1               1        1   \n",
       "2   21  Female          324          72         1               0        0   \n",
       "3   84    Male          383          73         1               1        1   \n",
       "4   66    Male          318          93         1               1        1   \n",
       "\n",
       "   Obesity  Alcohol Consumption  Exercise Hours Per Week  \\\n",
       "0        0                    0                 4.168189   \n",
       "1        1                    1                 1.813242   \n",
       "2        0                    0                 2.078353   \n",
       "3        0                    1                 9.828130   \n",
       "4        1                    0                 5.804299   \n",
       "\n",
       "   Previous Heart Problems  Medication Use  Stress Level  \\\n",
       "0                        0               0             9   \n",
       "1                        1               0             1   \n",
       "2                        1               1             9   \n",
       "3                        1               0             9   \n",
       "4                        1               0             6   \n",
       "\n",
       "   Sedentary Hours Per Day  Income        BMI  Triglycerides  \\\n",
       "0                 6.615001  261404  31.251233            286   \n",
       "1                 4.963459  285768  27.194973            235   \n",
       "2                 9.463426  235282  28.176571            587   \n",
       "3                 7.648981  125640  36.464704            378   \n",
       "4                 1.514821  160555  21.809144            231   \n",
       "\n",
       "   Physical Activity Days Per Week  Sleep Hours Per Day  Heart Attack Risk  \n",
       "0                                0                    6                  0  \n",
       "1                                1                    7                  0  \n",
       "2                                4                    4                  0  \n",
       "3                                3                    4                  0  \n",
       "4                                1                    5                  0  "
      ]
     },
     "execution_count": 2,
     "metadata": {},
     "output_type": "execute_result"
    }
   ],
   "source": [
    "df = pd.read_csv('dataset/heart_attack_dataset.csv')\n",
    "\n",
    "if 'Patient ID' in df.columns:\n",
    "    df.drop(columns=['Patient ID', 'Blood Pressure', 'Country', 'Continent', 'Hemisphere', 'Diet'], inplace=True)\n",
    "\n",
    "df.head()"
   ]
  },
  {
   "cell_type": "code",
   "execution_count": 3,
   "metadata": {},
   "outputs": [],
   "source": [
    "X = df.drop(columns=['Heart Attack Risk'])\n",
    "y = df['Heart Attack Risk']"
   ]
  },
  {
   "cell_type": "code",
   "execution_count": 4,
   "metadata": {},
   "outputs": [
    {
     "name": "stdout",
     "output_type": "stream",
     "text": [
      "Test row:  [67 'Male' 208 72 0 0 1 0 0 4.168188835442079 0 0 9 6.61500145291406\n",
      " 261404 31.2512327252954 286 0 6] \n",
      "\n",
      "Test label:  0\n"
     ]
    }
   ],
   "source": [
    "row = np.array(X.iloc[0].values)\n",
    "label = y.iloc[0]\n",
    "\n",
    "print('Test row: ', row, '\\n')\n",
    "print('Test label: ', label)"
   ]
  },
  {
   "cell_type": "code",
   "execution_count": 5,
   "metadata": {},
   "outputs": [
    {
     "name": "stdout",
     "output_type": "stream",
     "text": [
      "Age                                       67\n",
      "Sex                                     Male\n",
      "Cholesterol                              208\n",
      "Heart Rate                                72\n",
      "Diabetes                                   0\n",
      "Family History                             0\n",
      "Smoking                                    1\n",
      "Obesity                                    0\n",
      "Alcohol Consumption                        0\n",
      "Exercise Hours Per Week             4.168189\n",
      "Previous Heart Problems                    0\n",
      "Medication Use                             0\n",
      "Stress Level                               9\n",
      "Sedentary Hours Per Day             6.615001\n",
      "Income                                261404\n",
      "BMI                                31.251233\n",
      "Triglycerides                            286\n",
      "Physical Activity Days Per Week            0\n",
      "Sleep Hours Per Day                        6\n",
      "Name: 0, dtype: object\n"
     ]
    }
   ],
   "source": [
    "print(X.iloc[0])"
   ]
  },
  {
   "cell_type": "code",
   "execution_count": 6,
   "metadata": {},
   "outputs": [],
   "source": [
    "columns_to_exclude = ['Exercise Hours Per Week', 'Sedentary Hours Per Day', 'BMI']\n",
    "\n",
    "converted_row = []\n",
    "for i, value in enumerate(row):\n",
    "    column_name = X.columns[i]\n",
    "    if column_name in columns_to_exclude:\n",
    "        converted_row.append(value)  # Keep the original value\n",
    "    elif column_name == 'Sex':\n",
    "        converted_row.append(str(value))  # Convert Sex to string\n",
    "    else:\n",
    "        converted_row.append(int(value))  # Convert to int"
   ]
  },
  {
   "cell_type": "code",
   "execution_count": 7,
   "metadata": {},
   "outputs": [],
   "source": [
    "def create_tf_example(row):\n",
    "    feature = {\n",
    "        'Age': tf.train.Feature(int64_list=tf.train.Int64List(value=[row[0]])),\n",
    "        'Sex': tf.train.Feature(bytes_list=tf.train.BytesList(value=[row[1].encode('utf-8')])),\n",
    "        'Cholesterol': tf.train.Feature(int64_list=tf.train.Int64List(value=[row[2]])),\n",
    "        'Heart Rate': tf.train.Feature(int64_list=tf.train.Int64List(value=[row[3]])),\n",
    "        'Diabetes': tf.train.Feature(int64_list=tf.train.Int64List(value=[row[4]])),\n",
    "        'Family History': tf.train.Feature(int64_list=tf.train.Int64List(value=[row[5]])),\n",
    "        'Smoking': tf.train.Feature(int64_list=tf.train.Int64List(value=[row[6]])),\n",
    "        'Obesity': tf.train.Feature(int64_list=tf.train.Int64List(value=[row[7]])),\n",
    "        'Alcohol Consumption': tf.train.Feature(int64_list=tf.train.Int64List(value=[row[8]])),\n",
    "        'Exercise Hours Per Week': tf.train.Feature(float_list=tf.train.FloatList(value=[row[9]])),\n",
    "        'Previous Heart Problems': tf.train.Feature(int64_list=tf.train.Int64List(value=[row[10]])),\n",
    "        'Medication Use': tf.train.Feature(int64_list=tf.train.Int64List(value=[row[11]])),\n",
    "        'Stress Level': tf.train.Feature(int64_list=tf.train.Int64List(value=[row[12]])),\n",
    "        'Sedentary Hours Per Day': tf.train.Feature(float_list=tf.train.FloatList(value=[row[13]])),\n",
    "        'Income': tf.train.Feature(int64_list=tf.train.Int64List(value=[row[14]])),\n",
    "        'BMI': tf.train.Feature(float_list=tf.train.FloatList(value=[row[15]])),\n",
    "        'Triglycerides': tf.train.Feature(int64_list=tf.train.Int64List(value=[row[16]])),\n",
    "        'Physical Activity Days Per Week': tf.train.Feature(int64_list=tf.train.Int64List(value=[row[17]])),\n",
    "        'Sleep Hours Per Day': tf.train.Feature(int64_list=tf.train.Int64List(value=[row[18]]))\n",
    "    }\n",
    "    example = tf.train.Example(features=tf.train.Features(feature=feature))\n",
    "    return example.SerializeToString()"
   ]
  },
  {
   "cell_type": "code",
   "execution_count": 8,
   "metadata": {},
   "outputs": [],
   "source": [
    "serialized_example = create_tf_example(converted_row)"
   ]
  },
  {
   "cell_type": "markdown",
   "metadata": {},
   "source": [
    "## Make Prediction Request"
   ]
  },
  {
   "cell_type": "code",
   "execution_count": 10,
   "metadata": {},
   "outputs": [
    {
     "name": "stdout",
     "output_type": "stream",
     "text": [
      "The person does not have heart attack risk.\n"
     ]
    }
   ],
   "source": [
    "json_data = json.dumps(\n",
    "    {\n",
    "        \"instances\": [{\"examples\": {\"b64\": base64.b64encode(serialized_example).decode('utf-8')}}]\n",
    "    }\n",
    ")\n",
    "\n",
    "endpoint = \"http://localhost:8080/v1/models/heart-attack-risk-model:predict\"\n",
    "\n",
    "response = requests.post(endpoint, data=json_data, headers={\"Content-Type\": \"application/json\"})\n",
    "    \n",
    "prediction = np.argmax(response.json()[\"predictions\"][0])\n",
    "\n",
    "if prediction == 1:\n",
    "    print(\"The person has heart attack risk.\")\n",
    "else:\n",
    "    print(\"The person does not have heart attack risk.\")"
   ]
  }
 ],
 "metadata": {
  "kernelspec": {
   "display_name": "mlops-tfx",
   "language": "python",
   "name": "python3"
  },
  "language_info": {
   "codemirror_mode": {
    "name": "ipython",
    "version": 3
   },
   "file_extension": ".py",
   "mimetype": "text/x-python",
   "name": "python",
   "nbconvert_exporter": "python",
   "pygments_lexer": "ipython3",
   "version": "3.9.19"
  }
 },
 "nbformat": 4,
 "nbformat_minor": 2
}
